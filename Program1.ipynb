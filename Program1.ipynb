{
 "cells": [
  {
   "cell_type": "code",
   "execution_count": 2,
   "metadata": {},
   "outputs": [
    {
     "name": "stdin",
     "output_type": "stream",
     "text": [
      "How Many Hours did you sleep 5\n",
      "On a scale of 1 - 10, how happy are you? 9\n",
      "what is your name? Conor\n"
     ]
    },
    {
     "name": "stdout",
     "output_type": "stream",
     "text": [
      "Hello, Conor You slept 5 and because of that felt 9 today\n"
     ]
    }
   ],
   "source": [
    "hoursSlept = input(\"How Many Hours did you sleep\")\n",
    "happy = input(\"On a scale of 1 - 10, how happy are you?\")\n",
    "name = input(\"what is your name?\")\n",
    "\n",
    "print(\"Hello,\" ,name, \"You slept\", hoursSlept, \"hours and because of that felt\", happy, \"today\")"
   ]
  },
  {
   "cell_type": "code",
   "execution_count": null,
   "metadata": {},
   "outputs": [],
   "source": []
  }
 ],
 "metadata": {
  "kernelspec": {
   "display_name": "Python 3",
   "language": "python",
   "name": "python3"
  },
  "language_info": {
   "codemirror_mode": {
    "name": "ipython",
    "version": 3
   },
   "file_extension": ".py",
   "mimetype": "text/x-python",
   "name": "python",
   "nbconvert_exporter": "python",
   "pygments_lexer": "ipython3",
   "version": "3.8.3"
  }
 },
 "nbformat": 4,
 "nbformat_minor": 4
}
